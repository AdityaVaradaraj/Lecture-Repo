{
 "cells": [
  {
   "cell_type": "code",
   "execution_count": 320,
   "metadata": {
    "scrolled": true
   },
   "outputs": [
    {
     "data": {
      "text/html": [
       "<div>\n",
       "<style>\n",
       "    .dataframe thead tr:only-child th {\n",
       "        text-align: right;\n",
       "    }\n",
       "\n",
       "    .dataframe thead th {\n",
       "        text-align: left;\n",
       "    }\n",
       "\n",
       "    .dataframe tbody tr th {\n",
       "        vertical-align: top;\n",
       "    }\n",
       "</style>\n",
       "<table border=\"1\" class=\"dataframe\">\n",
       "  <thead>\n",
       "    <tr style=\"text-align: right;\">\n",
       "      <th></th>\n",
       "      <th>x1</th>\n",
       "      <th>y</th>\n",
       "    </tr>\n",
       "  </thead>\n",
       "  <tbody>\n",
       "    <tr>\n",
       "      <th>0</th>\n",
       "      <td>0.766652</td>\n",
       "      <td>0.299185</td>\n",
       "    </tr>\n",
       "    <tr>\n",
       "      <th>1</th>\n",
       "      <td>0.342835</td>\n",
       "      <td>0.963037</td>\n",
       "    </tr>\n",
       "    <tr>\n",
       "      <th>2</th>\n",
       "      <td>0.838514</td>\n",
       "      <td>0.703033</td>\n",
       "    </tr>\n",
       "    <tr>\n",
       "      <th>3</th>\n",
       "      <td>0.957296</td>\n",
       "      <td>0.998457</td>\n",
       "    </tr>\n",
       "    <tr>\n",
       "      <th>4</th>\n",
       "      <td>0.536795</td>\n",
       "      <td>0.106978</td>\n",
       "    </tr>\n",
       "  </tbody>\n",
       "</table>\n",
       "</div>"
      ],
      "text/plain": [
       "         x1         y\n",
       "0  0.766652  0.299185\n",
       "1  0.342835  0.963037\n",
       "2  0.838514  0.703033\n",
       "3  0.957296  0.998457\n",
       "4  0.536795  0.106978"
      ]
     },
     "execution_count": 320,
     "metadata": {},
     "output_type": "execute_result"
    }
   ],
   "source": [
    "import numpy as np\n",
    "import pandas as pd\n",
    "import matplotlib\n",
    "import matplotlib.pyplot as plt\n",
    "\n",
    "X=pd.read_csv('train.csv',sep=',');\n",
    "X.head()\n"
   ]
  },
  {
   "cell_type": "code",
   "execution_count": 321,
   "metadata": {},
   "outputs": [
    {
     "data": {
      "text/html": [
       "<div>\n",
       "<style>\n",
       "    .dataframe thead tr:only-child th {\n",
       "        text-align: right;\n",
       "    }\n",
       "\n",
       "    .dataframe thead th {\n",
       "        text-align: left;\n",
       "    }\n",
       "\n",
       "    .dataframe tbody tr th {\n",
       "        vertical-align: top;\n",
       "    }\n",
       "</style>\n",
       "<table border=\"1\" class=\"dataframe\">\n",
       "  <thead>\n",
       "    <tr style=\"text-align: right;\">\n",
       "      <th></th>\n",
       "      <th>x1</th>\n",
       "      <th>y</th>\n",
       "    </tr>\n",
       "  </thead>\n",
       "  <tbody>\n",
       "    <tr>\n",
       "      <th>count</th>\n",
       "      <td>40781.000000</td>\n",
       "      <td>40781.000000</td>\n",
       "    </tr>\n",
       "    <tr>\n",
       "      <th>mean</th>\n",
       "      <td>0.500822</td>\n",
       "      <td>0.499517</td>\n",
       "    </tr>\n",
       "    <tr>\n",
       "      <th>std</th>\n",
       "      <td>0.289082</td>\n",
       "      <td>0.289120</td>\n",
       "    </tr>\n",
       "    <tr>\n",
       "      <th>min</th>\n",
       "      <td>0.000005</td>\n",
       "      <td>0.000018</td>\n",
       "    </tr>\n",
       "    <tr>\n",
       "      <th>25%</th>\n",
       "      <td>0.250691</td>\n",
       "      <td>0.250091</td>\n",
       "    </tr>\n",
       "    <tr>\n",
       "      <th>50%</th>\n",
       "      <td>0.501237</td>\n",
       "      <td>0.499665</td>\n",
       "    </tr>\n",
       "    <tr>\n",
       "      <th>75%</th>\n",
       "      <td>0.751280</td>\n",
       "      <td>0.748806</td>\n",
       "    </tr>\n",
       "    <tr>\n",
       "      <th>max</th>\n",
       "      <td>0.999988</td>\n",
       "      <td>0.999970</td>\n",
       "    </tr>\n",
       "  </tbody>\n",
       "</table>\n",
       "</div>"
      ],
      "text/plain": [
       "                 x1             y\n",
       "count  40781.000000  40781.000000\n",
       "mean       0.500822      0.499517\n",
       "std        0.289082      0.289120\n",
       "min        0.000005      0.000018\n",
       "25%        0.250691      0.250091\n",
       "50%        0.501237      0.499665\n",
       "75%        0.751280      0.748806\n",
       "max        0.999988      0.999970"
      ]
     },
     "execution_count": 321,
     "metadata": {},
     "output_type": "execute_result"
    }
   ],
   "source": [
    "X.describe()"
   ]
  },
  {
   "cell_type": "code",
   "execution_count": 322,
   "metadata": {},
   "outputs": [
    {
     "data": {
      "text/plain": [
       "0        0.766652\n",
       "1        0.342835\n",
       "2        0.838514\n",
       "3        0.957296\n",
       "4        0.536795\n",
       "5        0.980666\n",
       "6        0.479315\n",
       "7        0.661224\n",
       "8        0.329131\n",
       "9        0.710158\n",
       "10       0.683366\n",
       "11       0.942435\n",
       "12       0.158425\n",
       "13       0.284432\n",
       "14       0.999884\n",
       "15       0.439977\n",
       "16       0.261146\n",
       "17       0.425409\n",
       "18       0.967039\n",
       "19       0.259453\n",
       "20       0.706830\n",
       "21       0.325143\n",
       "22       0.785731\n",
       "23       0.308743\n",
       "24       0.404767\n",
       "25       0.164545\n",
       "26       0.335951\n",
       "27       0.254620\n",
       "28       0.213048\n",
       "29       0.669042\n",
       "           ...   \n",
       "40751    0.880957\n",
       "40752    0.576744\n",
       "40753    0.645571\n",
       "40754    0.582752\n",
       "40755    0.767346\n",
       "40756    0.859672\n",
       "40757    0.389784\n",
       "40758    0.481084\n",
       "40759    0.031560\n",
       "40760    0.955797\n",
       "40761    0.781747\n",
       "40762    0.728798\n",
       "40763    0.305435\n",
       "40764    0.340016\n",
       "40765    0.812929\n",
       "40766    0.219228\n",
       "40767    0.248366\n",
       "40768    0.906085\n",
       "40769    0.508465\n",
       "40770    0.031784\n",
       "40771    0.452340\n",
       "40772    0.131527\n",
       "40773    0.998798\n",
       "40774    0.408391\n",
       "40775    0.594639\n",
       "40776    0.815382\n",
       "40777    0.821317\n",
       "40778    0.523061\n",
       "40779    0.925497\n",
       "40780    0.763602\n",
       "Name: x1, Length: 40781, dtype: float64"
      ]
     },
     "execution_count": 322,
     "metadata": {},
     "output_type": "execute_result"
    }
   ],
   "source": [
    "X['x1']\n"
   ]
  },
  {
   "cell_type": "code",
   "execution_count": 323,
   "metadata": {},
   "outputs": [
    {
     "data": {
      "text/plain": [
       "0        0.299185\n",
       "1        0.963037\n",
       "2        0.703033\n",
       "3        0.998457\n",
       "4        0.106978\n",
       "5        0.071472\n",
       "6        0.272783\n",
       "7        0.779159\n",
       "8        0.569620\n",
       "9        0.630131\n",
       "10       0.630431\n",
       "11       0.906322\n",
       "12       0.395673\n",
       "13       0.933219\n",
       "14       0.404203\n",
       "15       0.023104\n",
       "16       0.852236\n",
       "17       0.345120\n",
       "18       0.508628\n",
       "19       0.371485\n",
       "20       0.048436\n",
       "21       0.350929\n",
       "22       0.746539\n",
       "23       0.468445\n",
       "24       0.759261\n",
       "25       0.964710\n",
       "26       0.414314\n",
       "27       0.509004\n",
       "28       0.028018\n",
       "29       0.546272\n",
       "           ...   \n",
       "40751    0.341562\n",
       "40752    0.040346\n",
       "40753    0.507445\n",
       "40754    0.544649\n",
       "40755    0.605864\n",
       "40756    0.195399\n",
       "40757    0.147966\n",
       "40758    0.772099\n",
       "40759    0.069771\n",
       "40760    0.708938\n",
       "40761    0.684059\n",
       "40762    0.399608\n",
       "40763    0.655755\n",
       "40764    0.297167\n",
       "40765    0.214185\n",
       "40766    0.068273\n",
       "40767    0.753734\n",
       "40768    0.721175\n",
       "40769    0.569024\n",
       "40770    0.352641\n",
       "40771    0.847685\n",
       "40772    0.119815\n",
       "40773    0.434231\n",
       "40774    0.444635\n",
       "40775    0.741307\n",
       "40776    0.822821\n",
       "40777    0.439967\n",
       "40778    0.227777\n",
       "40779    0.386428\n",
       "40780    0.456028\n",
       "Name: y, Length: 40781, dtype: float64"
      ]
     },
     "execution_count": 323,
     "metadata": {},
     "output_type": "execute_result"
    }
   ],
   "source": [
    "X['y']"
   ]
  },
  {
   "cell_type": "code",
   "execution_count": 324,
   "metadata": {
    "scrolled": true
   },
   "outputs": [
    {
     "data": {
      "text/plain": [
       "array([[ 1.        ,  0.76665221],\n",
       "       [ 1.        ,  0.34283461],\n",
       "       [ 1.        ,  0.83851398],\n",
       "       ..., \n",
       "       [ 1.        ,  0.52306141],\n",
       "       [ 1.        ,  0.92549694],\n",
       "       [ 1.        ,  0.76360169]])"
      ]
     },
     "execution_count": 324,
     "metadata": {},
     "output_type": "execute_result"
    }
   ],
   "source": [
    "X1,y=np.transpose(np.array((np.ones(40781,int,1),X['x1']))),X['y'];\n",
    "X1"
   ]
  },
  {
   "cell_type": "code",
   "execution_count": 325,
   "metadata": {},
   "outputs": [
    {
     "data": {
      "text/plain": [
       "(40781,)"
      ]
     },
     "execution_count": 325,
     "metadata": {},
     "output_type": "execute_result"
    }
   ],
   "source": [
    "y.shape"
   ]
  },
  {
   "cell_type": "code",
   "execution_count": 326,
   "metadata": {},
   "outputs": [
    {
     "data": {
      "text/plain": [
       "(40781, 1)"
      ]
     },
     "execution_count": 326,
     "metadata": {},
     "output_type": "execute_result"
    }
   ],
   "source": [
    "#y=np.transpose(y);\n",
    "#y.shape=(40781,1);\n",
    "y=np.expand_dims(y,axis=1)\n",
    "y.shape"
   ]
  },
  {
   "cell_type": "code",
   "execution_count": 327,
   "metadata": {
    "scrolled": false
   },
   "outputs": [
    {
     "data": {
      "image/png": "[encoded data removed]",
      "text/plain": [
       "<matplotlib.figure.Figure at 0xad75870>"
      ]
     },
     "metadata": {},
     "output_type": "display_data"
    }
   ],
   "source": [
    "plt.plot(X1,y,'r.','2')\n",
    "plt.axis([0,0.1,0,0.1])\n",
    "plt.show()"
   ]
  },
  {
   "cell_type": "code",
   "execution_count": 328,
   "metadata": {},
   "outputs": [
    {
     "data": {
      "text/plain": [
       "array([ 6, 11, 12])"
      ]
     },
     "execution_count": 328,
     "metadata": {},
     "output_type": "execute_result"
    }
   ],
   "source": [
    "#def square(a):\n",
    "  #  a=np.zeros((np.size(a,1),(np.size(a,2))));\n",
    "   ## for i in xrange(0,np.size(a),1):\n",
    "    #    a[i]=a[i]*a[i];\n",
    "\n",
    "A=[[1,2,3],\n",
    "   [2,3,6],\n",
    "   [3,4,5]];\n",
    "a=np.zeros((3,1));\n",
    "#np.square(A);\n",
    "np.sum(A,1)"
   ]
  },
  {
   "cell_type": "code",
   "execution_count": 329,
   "metadata": {},
   "outputs": [],
   "source": [
    "#X1.shape\n",
    "y.shape\n",
    "theta=np.zeros((2,1));\n",
    "#theta.shape\n",
    "#np.size(y)\n",
    "#h=np.zeros((np.size(y),1));\n",
    "#h.shape"
   ]
  },
  {
   "cell_type": "code",
   "execution_count": 330,
   "metadata": {},
   "outputs": [
    {
     "name": "stdout",
     "output_type": "stream",
     "text": [
      "Enter a:0.342835\n"
     ]
    },
    {
     "data": {
      "image/png": "[encoded data removed]",
      "text/plain": [
       "<matplotlib.figure.Figure at 0x8d489b0>"
      ]
     },
     "metadata": {},
     "output_type": "display_data"
    },
    {
     "data": {
      "text/plain": [
       "array([ 0.49884521])"
      ]
     },
     "execution_count": 330,
     "metadata": {},
     "output_type": "execute_result"
    }
   ],
   "source": [
    "#theta=np.zeros((2,1));\n",
    "h=np.zeros((np.size(y),1));\n",
    "num_iter=100;\n",
    "J=0;\n",
    "alpha=1.3;\n",
    "m=np.size(y);\n",
    "cost=np.zeros((num_iter,1));\n",
    "Xiter=np.zeros((num_iter,1));\n",
    "for xiter in xrange(0,num_iter,1):\n",
    "    J=0;\n",
    "    h=np.dot(X1,theta);\n",
    "    J=(1./(2*m))*np.sum(np.square(h-y));\n",
    "    cost[xiter]=J;\n",
    "    theta=theta-alpha*(1./m)*np.dot(np.transpose(X1),(h-y));\n",
    "    \n",
    "Xiter=np.arange(0,num_iter);\n",
    "a=input(\"Enter a:\");\n",
    "A=[1,a];\n",
    "#print(\"%d\" % (A*theta));\n",
    "plt.plot(Xiter,cost,'r','2')\n",
    "plt.axis([0,100,0,0.25])\n",
    "plt.show()\n",
    "np.dot(A,theta)"
   ]
  },
  {
   "cell_type": "code",
   "execution_count": 345,
   "metadata": {},
   "outputs": [
    {
     "data": {
      "image/png": "[encoded data removed]",
      "text/plain": [
       "<matplotlib.figure.Figure at 0x8d266d0>"
      ]
     },
     "metadata": {},
     "output_type": "display_data"
    }
   ],
   "source": [
    "plt.plot(X1,y,'r.','2')\n",
    "plt.plot(X1,h,'b','2')\n",
    "plt.axis([0,1,0,1])\n",
    "plt.show()"
   ]
  },
  {
   "cell_type": "code",
   "execution_count": null,
   "metadata": {
    "collapsed": true
   },
   "outputs": [],
   "source": []
  },
  {
   "cell_type": "code",
   "execution_count": null,
   "metadata": {
    "collapsed": true
   },
   "outputs": [],
   "source": []
  },
  {
   "cell_type": "code",
   "execution_count": null,
   "metadata": {
    "collapsed": true
   },
   "outputs": [],
   "source": []
  }
 ],
 "metadata": {
  "kernelspec": {
   "display_name": "Python 2",
   "language": "python",
   "name": "python2"
  },
  "language_info": {
   "codemirror_mode": {
    "name": "ipython",
    "version": 2
   },
   "file_extension": ".py",
   "mimetype": "text/x-python",
   "name": "python",
   "nbconvert_exporter": "python",
   "pygments_lexer": "ipython2",
   "version": "2.7.13"
  }
 },
 "nbformat": 4,
 "nbformat_minor": 2
}
